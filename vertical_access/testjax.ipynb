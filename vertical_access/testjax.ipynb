{
 "cells": [
  {
   "cell_type": "code",
   "execution_count": 5,
   "id": "0ce4c793-dcb1-4377-89f6-808e4b65c4e9",
   "metadata": {},
   "outputs": [],
   "source": [
    "from jax import vjp, jvp, jacfwd\n",
    "import jax\n",
    "import jax.numpy as jnp\n",
    "import numpy as np"
   ]
  },
  {
   "cell_type": "code",
   "execution_count": 15,
   "id": "dd73ba31-4a91-4fd4-890e-1748debce47c",
   "metadata": {},
   "outputs": [],
   "source": [
    "def f(x): #R3->R1\n",
    "    return x[0]**3 + x[1]**2 + x[0] \n",
    "\n",
    "def dfdx_analytic(x):\n",
    "    return jnp.array([3*x[0]**2, 2*x[1], 1])\n",
    "\n",
    "def g(y, c): #R2->R3\n",
    "    return c*jnp.array([jnp.sin(y[0]),  y[0]-y[1], y[1]**2])\n",
    "\n",
    "def dgdx_analytic(y, c):\n",
    "    return c*np.array([[jnp.cos(y[0]), 0], [1, -1], [0, 2*y[1]]])"
   ]
  },
  {
   "cell_type": "code",
   "execution_count": 24,
   "id": "cbb50d04-6b2e-4931-ac8c-02bd9fc468f6",
   "metadata": {},
   "outputs": [],
   "source": [
    "c = 0.75\n",
    "g_jax = lambda y: g(y, c)\n",
    "dgdx_jax = lambda y: jacfwd(g_jax)(y)\n",
    "dfdx_jax = lambda x: jacfwd(f)(x)"
   ]
  },
  {
   "cell_type": "code",
   "execution_count": 31,
   "id": "3ae38805-e500-4cbb-b09a-25804b8ad5c0",
   "metadata": {},
   "outputs": [
    {
     "name": "stdout",
     "output_type": "stream",
     "text": [
      "0.88246626 0.8894216\n"
     ]
    }
   ],
   "source": [
    "#f = lambda x: np.sum(3 * x ** 2)\n",
    "y = jnp.array([1.,1.])\n",
    "primal_value = g_jax(y)\n",
    "tangent_vector = dgdx_jax(y)[:,0]\n",
    "#tangent_vector = dfdx_jax(g_jax(y))\n",
    "out, f_jvp = jax.jvp(f, (primal_value, ), (tangent_vector, ))\n",
    "print(out, f_jvp)"
   ]
  },
  {
   "cell_type": "code",
   "execution_count": 32,
   "id": "bac86f75-162b-4def-b6ac-1292ae573b57",
   "metadata": {},
   "outputs": [
    {
     "data": {
      "text/plain": [
       "Array(0.88246626, dtype=float32)"
      ]
     },
     "execution_count": 32,
     "metadata": {},
     "output_type": "execute_result"
    }
   ],
   "source": [
    "f(g(y,c))"
   ]
  },
  {
   "cell_type": "code",
   "execution_count": 33,
   "id": "982efd3b-5d82-4512-834f-8ce2b4d9f28c",
   "metadata": {},
   "outputs": [
    {
     "data": {
      "text/plain": [
       "Array([1.194874, 0.      , 1.      ], dtype=float32)"
      ]
     },
     "execution_count": 33,
     "metadata": {},
     "output_type": "execute_result"
    }
   ],
   "source": [
    "dfdx_analytic(g(y,c)) "
   ]
  },
  {
   "cell_type": "code",
   "execution_count": 34,
   "id": "852c1d64-2149-46e4-9cd0-65b65c908296",
   "metadata": {},
   "outputs": [
    {
     "data": {
      "text/plain": [
       "array([[ 0.40522675,  0.        ],\n",
       "       [ 0.75      , -0.75      ],\n",
       "       [ 0.        ,  1.5       ]])"
      ]
     },
     "execution_count": 34,
     "metadata": {},
     "output_type": "execute_result"
    }
   ],
   "source": [
    "(dgdx_analytic(y, c))"
   ]
  },
  {
   "cell_type": "code",
   "execution_count": 35,
   "id": "a9487ea6-a029-4078-bc83-4ab5a4e865bd",
   "metadata": {},
   "outputs": [
    {
     "data": {
      "text/plain": [
       "Array([0.48419493, 1.5       ], dtype=float32)"
      ]
     },
     "execution_count": 35,
     "metadata": {},
     "output_type": "execute_result"
    }
   ],
   "source": [
    "jnp.matmul(dfdx_analytic(g(y,c)), (dgdx_analytic(y, c)))"
   ]
  },
  {
   "cell_type": "code",
   "execution_count": 23,
   "id": "acc5578d-8220-4b88-a355-bbe3c09bdc03",
   "metadata": {},
   "outputs": [
    {
     "data": {
      "text/plain": [
       "0.4841949076795"
      ]
     },
     "execution_count": 23,
     "metadata": {},
     "output_type": "execute_result"
    }
   ],
   "source": [
    "1.194874*0.40522675"
   ]
  },
  {
   "cell_type": "code",
   "execution_count": 162,
   "id": "63809019-338b-400a-8bf4-eb017c06c4f4",
   "metadata": {},
   "outputs": [
    {
     "data": {
      "text/plain": [
       "Array([0.4052267, 0.75     , 0.       ], dtype=float32)"
      ]
     },
     "execution_count": 162,
     "metadata": {},
     "output_type": "execute_result"
    }
   ],
   "source": [
    "tangent_vector"
   ]
  },
  {
   "cell_type": "code",
   "execution_count": 176,
   "id": "39d8956f-1c35-479d-883b-e391a9679063",
   "metadata": {},
   "outputs": [
    {
     "data": {
      "text/plain": [
       "(3,)"
      ]
     },
     "execution_count": 176,
     "metadata": {},
     "output_type": "execute_result"
    }
   ],
   "source": [
    "g0.shape"
   ]
  },
  {
   "cell_type": "code",
   "execution_count": 180,
   "id": "f7e869c8-2925-425b-947c-e579a199aa67",
   "metadata": {},
   "outputs": [
    {
     "data": {
      "text/plain": [
       "(2, 3)"
      ]
     },
     "execution_count": 180,
     "metadata": {},
     "output_type": "execute_result"
    }
   ],
   "source": [
    "dg0.shape"
   ]
  },
  {
   "cell_type": "code",
   "execution_count": 187,
   "id": "bcadad9c-0af9-4180-8731-066f25214000",
   "metadata": {},
   "outputs": [
    {
     "data": {
      "text/plain": [
       "Array(0.88246626, dtype=float32)"
      ]
     },
     "execution_count": 187,
     "metadata": {},
     "output_type": "execute_result"
    }
   ],
   "source": [
    "jax.vjp(f, g0)[0]"
   ]
  },
  {
   "cell_type": "code",
   "execution_count": 190,
   "id": "c68fdc08-0845-4e22-8ab6-fe0bf1443a99",
   "metadata": {},
   "outputs": [],
   "source": [
    "vjp_fun = lambda x, v: jax.vjp(f, x)[1](v)[0]\n",
    "\n",
    "x=jnp.array([1.,2,3])\n",
    "\n",
    "g0 = g_jax(y)\n",
    "df0 = jnp.transpose(dfdx_analytic(x))\n",
    "# compute J^T v\n",
    "vjp = vjp_fun(g0,df0)"
   ]
  },
  {
   "cell_type": "code",
   "execution_count": 191,
   "id": "ba4a016f-79ac-4792-a055-26860963133a",
   "metadata": {},
   "outputs": [
    {
     "data": {
      "text/plain": [
       "Array([17.558992,  0.      ,  0.      ], dtype=float32)"
      ]
     },
     "execution_count": 191,
     "metadata": {},
     "output_type": "execute_result"
    }
   ],
   "source": [
    "vjp"
   ]
  }
 ],
 "metadata": {
  "kernelspec": {
   "display_name": "Python 3 (ipykernel)",
   "language": "python",
   "name": "python3"
  },
  "language_info": {
   "codemirror_mode": {
    "name": "ipython",
    "version": 3
   },
   "file_extension": ".py",
   "mimetype": "text/x-python",
   "name": "python",
   "nbconvert_exporter": "python",
   "pygments_lexer": "ipython3",
   "version": "3.8.16"
  }
 },
 "nbformat": 4,
 "nbformat_minor": 5
}
